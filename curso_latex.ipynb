{
 "cells": [
  {
   "cell_type": "markdown",
   "metadata": {},
   "source": [
    "# Introdução ao LaTeX\n",
    "\n",
    "LaTeX, conforme a sua própria [documentação](https://www.latex-project.org/),é um sistema para a preparação de documentos. \n",
    "\n",
    "> *E eu já adianto a minha opinião aqui dizendo que é muito mais fácil a construção de trabalhos acadêmicos com ele. Principalmente porque você pode focar muito mais no conteúdo do que em ter que, além disso, configurar todo o arquivo manualmente. E a parte de fazer referências então?! O sonho!*\n",
    "\n",
    "Embora também seja possível fazer outros tipos de documentos, como livros, apresentações, currículos e posters.\n",
    "\n",
    "Existe um repositório da abntex que é \"uma suíte para LaTeX que atende os requisitos das normas da ABNT (Associação Brasileira de Normas Técnicas) para elaboração de documentos técnicos e científicos brasileiros, como artigos científicos, relatórios técnicos, trabalhos acadêmicos como teses, dissertações, projetos de pesquisa e outros documentos do gênero.\"\n",
    "\n",
    "- [Link para repositório no GitHub da abnTeX](https://github.com/abntex/abntex2)\n",
    "- [Site abnTeX](http://www.abntex.net.br/)\n",
    "\n",
    "## Estrutura\n",
    "## Básico para trabalhos academicos\n",
    "- Capas e contracapas\n",
    "- Resumos\n",
    "- Citações e referências\n",
    "- Tabelas (com utilização de labels)\n",
    "- Imagens (com utilização de labels também! Proque você não é besta!)"
   ]
  },
  {
   "cell_type": "code",
   "execution_count": null,
   "metadata": {},
   "outputs": [],
   "source": []
  }
 ],
 "metadata": {
  "kernelspec": {
   "display_name": "Python 3",
   "language": "python",
   "name": "python3"
  },
  "language_info": {
   "codemirror_mode": {
    "name": "ipython",
    "version": 3
   },
   "file_extension": ".py",
   "mimetype": "text/x-python",
   "name": "python",
   "nbconvert_exporter": "python",
   "pygments_lexer": "ipython3",
   "version": "3.6.10"
  }
 },
 "nbformat": 4,
 "nbformat_minor": 4
}
